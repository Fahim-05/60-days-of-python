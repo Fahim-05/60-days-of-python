{
 "cells": [
  {
   "cell_type": "markdown",
   "id": "035fe92a",
   "metadata": {},
   "source": [
    "# Heading"
   ]
  },
  {
   "cell_type": "code",
   "execution_count": 5,
   "id": "9419f1a1",
   "metadata": {},
   "outputs": [
    {
     "data": {
      "text/plain": [
       "'Data Science'"
      ]
     },
     "execution_count": 5,
     "metadata": {},
     "output_type": "execute_result"
    }
   ],
   "source": [
    "'Data Science'"
   ]
  },
  {
   "cell_type": "code",
   "execution_count": 16,
   "id": "c2ba286d",
   "metadata": {},
   "outputs": [
    {
     "name": "stdout",
     "output_type": "stream",
     "text": [
      "Hellow World! & Welcome to 60 days of python |"
     ]
    }
   ],
   "source": [
    "print('Hellow World!',' Welcome to 60 days of python', sep=' &', end=' |')                          #shift + tab"
   ]
  },
  {
   "cell_type": "code",
   "execution_count": 19,
   "id": "bc659e10",
   "metadata": {},
   "outputs": [
    {
     "name": "stdout",
     "output_type": "stream",
     "text": [
      "Hellow World\n"
     ]
    }
   ],
   "source": [
    "var = 'Hellow World'\n",
    "print(var)"
   ]
  },
  {
   "cell_type": "code",
   "execution_count": 22,
   "id": "9f151093",
   "metadata": {},
   "outputs": [
    {
     "name": "stdout",
     "output_type": "stream",
     "text": [
      "Hellow World\n",
      "My sentence is Hellow World\n"
     ]
    }
   ],
   "source": [
    "print(var)\n",
    "\n",
    "print('My sentence is '+var)"
   ]
  },
  {
   "cell_type": "code",
   "execution_count": 23,
   "id": "90c9335e",
   "metadata": {},
   "outputs": [
    {
     "data": {
      "text/plain": [
       "2477149304560"
      ]
     },
     "execution_count": 23,
     "metadata": {},
     "output_type": "execute_result"
    }
   ],
   "source": [
    "id(var)"
   ]
  },
  {
   "cell_type": "code",
   "execution_count": 25,
   "id": "89e45fa3",
   "metadata": {},
   "outputs": [
    {
     "data": {
      "text/plain": [
       "61"
      ]
     },
     "execution_count": 25,
     "metadata": {},
     "output_type": "execute_result"
    }
   ],
   "source": [
    "import sys\n",
    "sys.getsizeof(var)"
   ]
  },
  {
   "cell_type": "code",
   "execution_count": 26,
   "id": "59e774ad",
   "metadata": {},
   "outputs": [],
   "source": [
    "x = 100"
   ]
  },
  {
   "cell_type": "code",
   "execution_count": 27,
   "id": "a870262b",
   "metadata": {},
   "outputs": [
    {
     "data": {
      "text/plain": [
       "100"
      ]
     },
     "execution_count": 27,
     "metadata": {},
     "output_type": "execute_result"
    }
   ],
   "source": [
    "x"
   ]
  },
  {
   "cell_type": "code",
   "execution_count": 28,
   "id": "d99f7b05",
   "metadata": {},
   "outputs": [
    {
     "data": {
      "text/plain": [
       "int"
      ]
     },
     "execution_count": 28,
     "metadata": {},
     "output_type": "execute_result"
    }
   ],
   "source": [
    "type(x)"
   ]
  },
  {
   "cell_type": "code",
   "execution_count": 29,
   "id": "b7017e9a",
   "metadata": {},
   "outputs": [
    {
     "data": {
      "text/plain": [
       "'Hellow World'"
      ]
     },
     "execution_count": 29,
     "metadata": {},
     "output_type": "execute_result"
    }
   ],
   "source": [
    "var"
   ]
  },
  {
   "cell_type": "code",
   "execution_count": 32,
   "id": "563afd58",
   "metadata": {},
   "outputs": [],
   "source": [
    "y = 100"
   ]
  },
  {
   "cell_type": "code",
   "execution_count": 33,
   "id": "78f3af52",
   "metadata": {},
   "outputs": [
    {
     "data": {
      "text/plain": [
       "100"
      ]
     },
     "execution_count": 33,
     "metadata": {},
     "output_type": "execute_result"
    }
   ],
   "source": [
    "y"
   ]
  },
  {
   "cell_type": "code",
   "execution_count": 34,
   "id": "d8e40c43",
   "metadata": {},
   "outputs": [
    {
     "data": {
      "text/plain": [
       "140714203074440"
      ]
     },
     "execution_count": 34,
     "metadata": {},
     "output_type": "execute_result"
    }
   ],
   "source": [
    "id(x)"
   ]
  },
  {
   "cell_type": "code",
   "execution_count": 35,
   "id": "94926a87",
   "metadata": {},
   "outputs": [
    {
     "data": {
      "text/plain": [
       "140714203074440"
      ]
     },
     "execution_count": 35,
     "metadata": {},
     "output_type": "execute_result"
    }
   ],
   "source": [
    "id(y)"
   ]
  },
  {
   "cell_type": "code",
   "execution_count": 36,
   "id": "46b55be9",
   "metadata": {},
   "outputs": [
    {
     "data": {
      "text/plain": [
       "2477148188656"
      ]
     },
     "execution_count": 36,
     "metadata": {},
     "output_type": "execute_result"
    }
   ],
   "source": [
    "x = 1000\n",
    "y = 1000\n",
    "\n",
    "id(x)\n",
    "id(y)"
   ]
  },
  {
   "cell_type": "code",
   "execution_count": 37,
   "id": "71b74034",
   "metadata": {},
   "outputs": [
    {
     "data": {
      "text/plain": [
       "2477148188656"
      ]
     },
     "execution_count": 37,
     "metadata": {},
     "output_type": "execute_result"
    }
   ],
   "source": [
    "id(y)"
   ]
  },
  {
   "cell_type": "code",
   "execution_count": 38,
   "id": "2c841ba5",
   "metadata": {},
   "outputs": [
    {
     "data": {
      "text/plain": [
       "2477148190992"
      ]
     },
     "execution_count": 38,
     "metadata": {},
     "output_type": "execute_result"
    }
   ],
   "source": [
    "id(x)"
   ]
  },
  {
   "cell_type": "code",
   "execution_count": 39,
   "id": "189dabc2",
   "metadata": {},
   "outputs": [],
   "source": [
    "name = 'Fahim Abdullah'"
   ]
  },
  {
   "cell_type": "code",
   "execution_count": 40,
   "id": "589d38f2",
   "metadata": {},
   "outputs": [
    {
     "data": {
      "text/plain": [
       "'Fahim Abdullah'"
      ]
     },
     "execution_count": 40,
     "metadata": {},
     "output_type": "execute_result"
    }
   ],
   "source": [
    "name"
   ]
  },
  {
   "cell_type": "code",
   "execution_count": 41,
   "id": "11923049",
   "metadata": {},
   "outputs": [
    {
     "data": {
      "text/plain": [
       "8"
      ]
     },
     "execution_count": 41,
     "metadata": {},
     "output_type": "execute_result"
    }
   ],
   "source": [
    "10-2"
   ]
  },
  {
   "cell_type": "code",
   "execution_count": 42,
   "id": "b1f38475",
   "metadata": {},
   "outputs": [],
   "source": [
    "x, y, z = 10, 100, 500"
   ]
  },
  {
   "cell_type": "code",
   "execution_count": 43,
   "id": "1b44bcd6",
   "metadata": {},
   "outputs": [
    {
     "data": {
      "text/plain": [
       "500"
      ]
     },
     "execution_count": 43,
     "metadata": {},
     "output_type": "execute_result"
    }
   ],
   "source": [
    "z"
   ]
  },
  {
   "cell_type": "code",
   "execution_count": 44,
   "id": "574e37cc",
   "metadata": {},
   "outputs": [
    {
     "data": {
      "text/plain": [
       "100"
      ]
     },
     "execution_count": 44,
     "metadata": {},
     "output_type": "execute_result"
    }
   ],
   "source": [
    "y"
   ]
  },
  {
   "cell_type": "code",
   "execution_count": 45,
   "id": "285193ac",
   "metadata": {},
   "outputs": [
    {
     "data": {
      "text/plain": [
       "10"
      ]
     },
     "execution_count": 45,
     "metadata": {},
     "output_type": "execute_result"
    }
   ],
   "source": [
    "x"
   ]
  },
  {
   "cell_type": "markdown",
   "id": "020f4fcc",
   "metadata": {},
   "source": [
    "# Golobal & Local Variable"
   ]
  },
  {
   "cell_type": "code",
   "execution_count": 51,
   "id": "7cb09e44",
   "metadata": {},
   "outputs": [
    {
     "name": "stdout",
     "output_type": "stream",
     "text": [
      "My number is  200\n"
     ]
    }
   ],
   "source": [
    "x = 1000  #global_variable\n",
    "\n",
    "def func1():\n",
    "    x=200  #local_variable\n",
    "    print('My number is ',+x)\n",
    "func1()\n",
    "\n"
   ]
  },
  {
   "cell_type": "code",
   "execution_count": 54,
   "id": "377f70db",
   "metadata": {},
   "outputs": [
    {
     "name": "stdout",
     "output_type": "stream",
     "text": [
      "My number is  200\n",
      "My number is  1000\n"
     ]
    }
   ],
   "source": [
    "x = 1000  #global_variable\n",
    "\n",
    "def func1():\n",
    "    x=200  #local_variable\n",
    "    print('My number is ',+x)\n",
    "    \n",
    "func1()\n",
    "\n",
    "print('My number is ',+x)"
   ]
  },
  {
   "cell_type": "code",
   "execution_count": 55,
   "id": "7620a4da",
   "metadata": {},
   "outputs": [
    {
     "name": "stdout",
     "output_type": "stream",
     "text": [
      "My number is  200\n",
      "My number is  200\n"
     ]
    }
   ],
   "source": [
    "x = 1000  #global_variable\n",
    "\n",
    "def func1():\n",
    "    \n",
    "    global x\n",
    "    x=200  #local_variable\n",
    "    print('My number is ',+x)\n",
    "    \n",
    "func1()\n",
    "\n",
    "print('My number is ',+x)"
   ]
  },
  {
   "cell_type": "code",
   "execution_count": null,
   "id": "2c81f001",
   "metadata": {},
   "outputs": [],
   "source": []
  }
 ],
 "metadata": {
  "kernelspec": {
   "display_name": "Python 3 (ipykernel)",
   "language": "python",
   "name": "python3"
  },
  "language_info": {
   "codemirror_mode": {
    "name": "ipython",
    "version": 3
   },
   "file_extension": ".py",
   "mimetype": "text/x-python",
   "name": "python",
   "nbconvert_exporter": "python",
   "pygments_lexer": "ipython3",
   "version": "3.11.7"
  }
 },
 "nbformat": 4,
 "nbformat_minor": 5
}
